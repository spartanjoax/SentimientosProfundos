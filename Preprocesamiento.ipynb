{
 "cells": [
  {
   "cell_type": "markdown",
   "metadata": {},
   "source": [
    "# Pre procesamiento\n",
    "\n",
    "## Importar el archivo de tweets en CSV para el entrenamiento\n",
    "Se importar el archivo y se eliminan las columnas que no se necesitan, se limpian datos innecesarios y con esto se genera un nuevo archivo con los tweets pre procesados\n",
    "\n",
    "Basado en: https://towardsdatascience.com/another-twitter-sentiment-analysis-with-python-part-11-cnn-word2vec-41f5e28eda74"
   ]
  },
  {
   "cell_type": "markdown",
   "metadata": {},
   "source": [
    "## Carga de datos\n",
    "Se cargan los tweets del archivo CSV en un dataframe. \n",
    "\n",
    "Se valida que el dataframe no tenga nulls. Si los tiene, se les hace drop.\n",
    "\n",
    "Además, se cargan listas de stopwords y emoticones para el pre-procesamiento"
   ]
  },
  {
   "cell_type": "code",
   "execution_count": 1,
   "metadata": {},
   "outputs": [
    {
     "name": "stdout",
     "output_type": "stream",
     "text": [
      "[':-)', ':-))', '(-:', '((-:', ':)', ':))', '(:', '((:', ':-]', '[-:']\n",
      "[':-(', ':(', ':-c', ':c', ':-<', ':<', ':-[', ':[', ':-||', '>:[']\n"
     ]
    },
    {
     "data": {
      "text/html": [
       "<div>\n",
       "<style scoped>\n",
       "    .dataframe tbody tr th:only-of-type {\n",
       "        vertical-align: middle;\n",
       "    }\n",
       "\n",
       "    .dataframe tbody tr th {\n",
       "        vertical-align: top;\n",
       "    }\n",
       "\n",
       "    .dataframe thead th {\n",
       "        text-align: right;\n",
       "    }\n",
       "</style>\n",
       "<table border=\"1\" class=\"dataframe\">\n",
       "  <thead>\n",
       "    <tr style=\"text-align: right;\">\n",
       "      <th></th>\n",
       "      <th>Polaridad</th>\n",
       "      <th>Texto</th>\n",
       "      <th>LongitudOriginal</th>\n",
       "    </tr>\n",
       "  </thead>\n",
       "  <tbody>\n",
       "    <tr>\n",
       "      <th>0</th>\n",
       "      <td>NONE</td>\n",
       "      <td>Salgo de #VeoTV que día más largoooooo</td>\n",
       "      <td>38</td>\n",
       "    </tr>\n",
       "    <tr>\n",
       "      <th>1</th>\n",
       "      <td>NEU</td>\n",
       "      <td>@PauladeLasHeras No te libraras de ayudar meno...</td>\n",
       "      <td>63</td>\n",
       "    </tr>\n",
       "    <tr>\n",
       "      <th>2</th>\n",
       "      <td>P</td>\n",
       "      <td>@marodriguezb Gracias MAR</td>\n",
       "      <td>25</td>\n",
       "    </tr>\n",
       "    <tr>\n",
       "      <th>3</th>\n",
       "      <td>N</td>\n",
       "      <td>Off pensando en el regalito Sinde la que se va...</td>\n",
       "      <td>128</td>\n",
       "    </tr>\n",
       "    <tr>\n",
       "      <th>4</th>\n",
       "      <td>P</td>\n",
       "      <td>Conozco a alguien q es adicto al drama! Ja ja ...</td>\n",
       "      <td>65</td>\n",
       "    </tr>\n",
       "  </tbody>\n",
       "</table>\n",
       "</div>"
      ],
      "text/plain": [
       "  Polaridad                                              Texto  \\\n",
       "0      NONE             Salgo de #VeoTV que día más largoooooo   \n",
       "1       NEU  @PauladeLasHeras No te libraras de ayudar meno...   \n",
       "2         P                          @marodriguezb Gracias MAR   \n",
       "3         N  Off pensando en el regalito Sinde la que se va...   \n",
       "4         P  Conozco a alguien q es adicto al drama! Ja ja ...   \n",
       "\n",
       "   LongitudOriginal  \n",
       "0                38  \n",
       "1                63  \n",
       "2                25  \n",
       "3               128  \n",
       "4                65  "
      ]
     },
     "execution_count": 1,
     "metadata": {},
     "output_type": "execute_result"
    }
   ],
   "source": [
    "import pandas as pd  \n",
    "import numpy as np\n",
    "import matplotlib.pyplot as plt\n",
    "from Preprocesador import Preprocesador\n",
    "\n",
    "preprocesador = Preprocesador()\n",
    "\n",
    "#Definir el nombre de las columnas del archivo\n",
    "cols = ['id','XX','Polaridad','Texto']\n",
    "\n",
    "#Importar el archivo en memoria \n",
    "#Se indica que no tiene encabezados\n",
    "#Se usan los nombres definidos anteriormente los nombres de las columnas\n",
    "df = pd.read_csv(\"tweets.csv\",header=None, names=cols)\n",
    "\n",
    "#Se botan las columnas que no se necesitan\n",
    "df.drop(['id','XX'],axis=1,inplace=True)\n",
    "\n",
    "#Se agrega columna de longitud original para validaciones luego del pre proccesamiento\n",
    "df['LongitudOriginal'] = [len(str(t)) for t in df.Texto]\n",
    "\n",
    "#Elimina las líneas que no tengan todos los valores definidos\n",
    "df.dropna(inplace=True)\n",
    "df.reset_index(drop=True,inplace=True)\n",
    "df.loc[df['Polaridad'] == 'N+', 'Polaridad'] = 'N'\n",
    "df.loc[df['Polaridad'] == 'P+', 'Polaridad'] = 'P'\n",
    "\n",
    "#Imprimir las primeras líneas del archivo para validar una carga correcta\n",
    "df.head()"
   ]
  },
  {
   "cell_type": "markdown",
   "metadata": {},
   "source": [
    "## Obtener totales por polaridad\n",
    "Obtenemos una cuenta de cuantos comentarios hay por polaridad"
   ]
  },
  {
   "cell_type": "code",
   "execution_count": 2,
   "metadata": {},
   "outputs": [
    {
     "data": {
      "text/plain": [
       "P       3044\n",
       "N       2399\n",
       "NONE    1543\n",
       "NEU      738\n",
       "Name: Polaridad, dtype: int64"
      ]
     },
     "execution_count": 2,
     "metadata": {},
     "output_type": "execute_result"
    }
   ],
   "source": [
    "#Imprimir el total de tweets por polaridad\n",
    "df.Polaridad.value_counts()"
   ]
  },
  {
   "cell_type": "markdown",
   "metadata": {},
   "source": [
    "## Definición de método que realiza pre-procesamiento\n",
    "Se define en este método cuáles técnicas de pre-procesamiento se van a realizar\n",
    "\n",
    "Se imprime en pantalla una muestra del resultado del pre-procesamiento"
   ]
  },
  {
   "cell_type": "code",
   "execution_count": 3,
   "metadata": {},
   "outputs": [
    {
     "name": "stdout",
     "output_type": "stream",
     "text": [
      "@noseashetero 1000/10 de verdad a ti que voy a decir petarda que te quiero más que a mí mismo  ✨\n",
      "@piscolabisaereo @HistoriaNG @SPosteguillo las tengo pero aún no las he leído. Caerán prontito \n",
      "Al final han sido 3h  Bueno, mañana tengo fiesta así que.. No me quejo \n",
      "noseashetero xnumxxnumx de verdad a ti que voy a decir petarda que te quiero más que a mí mismo emopos\n",
      "piscolabisaereo historiang sposteguillo las tengo pero aún no las he leído caerán prontito\n"
     ]
    }
   ],
   "source": [
    "\n",
    "#Prueba el pre procesamiento en un grupo pequeño de registros\n",
    "testing = df.Texto[7218:7221]\n",
    "test_result = []\n",
    "for t in testing:\n",
    "    print(t)\n",
    "    test_result.append(preprocesador.tweetCleaner(text=t))\n",
    "print(test_result[0])\n",
    "print(test_result[1])"
   ]
  },
  {
   "cell_type": "markdown",
   "metadata": {},
   "source": [
    "## Ejecutar el pre-procesamiento\n",
    "Se ejecuta el pre-procesamiento sobre todos los tweets y se guardan en una lista"
   ]
  },
  {
   "cell_type": "code",
   "execution_count": 4,
   "metadata": {},
   "outputs": [
    {
     "name": "stdout",
     "output_type": "stream",
     "text": [
      "Pre procesando tweets...\n",
      "\n",
      "1000 de 7724 tweets procesados\n",
      "2000 de 7724 tweets procesados\n",
      "3000 de 7724 tweets procesados\n",
      "4000 de 7724 tweets procesados\n",
      "5000 de 7724 tweets procesados\n",
      "6000 de 7724 tweets procesados\n",
      "7000 de 7724 tweets procesados\n",
      "Pre procesamiento completado\n"
     ]
    }
   ],
   "source": [
    "print (\"Pre procesando tweets...\\n\")\n",
    "clean_tweet_texts = []\n",
    "for i in range(df.Texto.count()):\n",
    "    if( (i+1)%1000 == 0 ):\n",
    "        print(\"%d de %d tweets procesados\" % ( i+1, df.Texto.count() ))\n",
    "    clean_tweet_texts.append(preprocesador.tweetCleaner(str(df['Texto'][i])))\n",
    "print (\"Pre procesamiento completado\")"
   ]
  },
  {
   "cell_type": "markdown",
   "metadata": {},
   "source": [
    "## Generar dataframe para exportación\n",
    "Se crea un dataframe con los tweets y se les agrega la polaridad asociada"
   ]
  },
  {
   "cell_type": "code",
   "execution_count": 5,
   "metadata": {},
   "outputs": [
    {
     "data": {
      "text/html": [
       "<div>\n",
       "<style scoped>\n",
       "    .dataframe tbody tr th:only-of-type {\n",
       "        vertical-align: middle;\n",
       "    }\n",
       "\n",
       "    .dataframe tbody tr th {\n",
       "        vertical-align: top;\n",
       "    }\n",
       "\n",
       "    .dataframe thead th {\n",
       "        text-align: right;\n",
       "    }\n",
       "</style>\n",
       "<table border=\"1\" class=\"dataframe\">\n",
       "  <thead>\n",
       "    <tr style=\"text-align: right;\">\n",
       "      <th></th>\n",
       "      <th>Texto</th>\n",
       "      <th>Polaridad</th>\n",
       "    </tr>\n",
       "  </thead>\n",
       "  <tbody>\n",
       "    <tr>\n",
       "      <th>0</th>\n",
       "      <td>salgo de veotv que día más largoo</td>\n",
       "      <td>NONE</td>\n",
       "    </tr>\n",
       "    <tr>\n",
       "      <th>1</th>\n",
       "      <td>pauladelasheras no te libraras de ayudar menos...</td>\n",
       "      <td>NEU</td>\n",
       "    </tr>\n",
       "    <tr>\n",
       "      <th>2</th>\n",
       "      <td>marodriguezb gracias mar</td>\n",
       "      <td>P</td>\n",
       "    </tr>\n",
       "    <tr>\n",
       "      <th>3</th>\n",
       "      <td>off pensando en el regalito sinde la que se va...</td>\n",
       "      <td>N</td>\n",
       "    </tr>\n",
       "    <tr>\n",
       "      <th>4</th>\n",
       "      <td>conozco a alguien q es adicto al drama ja ja j...</td>\n",
       "      <td>P</td>\n",
       "    </tr>\n",
       "  </tbody>\n",
       "</table>\n",
       "</div>"
      ],
      "text/plain": [
       "                                               Texto Polaridad\n",
       "0                  salgo de veotv que día más largoo      NONE\n",
       "1  pauladelasheras no te libraras de ayudar menos...       NEU\n",
       "2                           marodriguezb gracias mar         P\n",
       "3  off pensando en el regalito sinde la que se va...         N\n",
       "4  conozco a alguien q es adicto al drama ja ja j...         P"
      ]
     },
     "execution_count": 5,
     "metadata": {},
     "output_type": "execute_result"
    }
   ],
   "source": [
    "#Generar dataframe con tweets pre procesados\n",
    "clean_df = pd.DataFrame(clean_tweet_texts,columns=['Texto'])\n",
    "clean_df['Polaridad'] = df.Polaridad\n",
    "clean_df.head()"
   ]
  },
  {
   "cell_type": "markdown",
   "metadata": {},
   "source": [
    "## Validar nulls\n",
    "Se valida que no queden nulls. En caso que queden, se les hace drop."
   ]
  },
  {
   "cell_type": "code",
   "execution_count": 6,
   "metadata": {},
   "outputs": [
    {
     "data": {
      "text/html": [
       "<div>\n",
       "<style scoped>\n",
       "    .dataframe tbody tr th:only-of-type {\n",
       "        vertical-align: middle;\n",
       "    }\n",
       "\n",
       "    .dataframe tbody tr th {\n",
       "        vertical-align: top;\n",
       "    }\n",
       "\n",
       "    .dataframe thead th {\n",
       "        text-align: right;\n",
       "    }\n",
       "</style>\n",
       "<table border=\"1\" class=\"dataframe\">\n",
       "  <thead>\n",
       "    <tr style=\"text-align: right;\">\n",
       "      <th></th>\n",
       "      <th>Texto</th>\n",
       "      <th>Polaridad</th>\n",
       "    </tr>\n",
       "  </thead>\n",
       "  <tbody>\n",
       "  </tbody>\n",
       "</table>\n",
       "</div>"
      ],
      "text/plain": [
       "Empty DataFrame\n",
       "Columns: [Texto, Polaridad]\n",
       "Index: []"
      ]
     },
     "execution_count": 6,
     "metadata": {},
     "output_type": "execute_result"
    }
   ],
   "source": [
    "#Verificar si luego del pre procesamiento quedaron registros NULL \n",
    "#Hay que revisarlos contra los tweets originales y verificar si hay algún error\n",
    "clean_df[clean_df.isnull().any(axis=1)]"
   ]
  },
  {
   "cell_type": "code",
   "execution_count": 7,
   "metadata": {},
   "outputs": [
    {
     "name": "stdout",
     "output_type": "stream",
     "text": [
      "<class 'pandas.core.frame.DataFrame'>\n",
      "RangeIndex: 7724 entries, 0 to 7723\n",
      "Data columns (total 2 columns):\n",
      "Texto        7724 non-null object\n",
      "Polaridad    7724 non-null object\n",
      "dtypes: object(2)\n",
      "memory usage: 120.8+ KB\n"
     ]
    }
   ],
   "source": [
    "#Luego de revisar los registros NULL, se detectó que el único caso era porque no tenía comentario\n",
    "#Se van a desechar los registros NULL\n",
    "clean_df.dropna(inplace=True)\n",
    "clean_df.reset_index(drop=True,inplace=True)\n",
    "clean_df.info()"
   ]
  },
  {
   "cell_type": "code",
   "execution_count": 8,
   "metadata": {},
   "outputs": [],
   "source": [
    "#Guarda los tweets a un archivo con encoding UTF-8\n",
    "csv = 'tweets_limpios.csv'\n",
    "clean_df.to_csv(csv,encoding='utf-8')"
   ]
  },
  {
   "cell_type": "code",
   "execution_count": 9,
   "metadata": {},
   "outputs": [
    {
     "data": {
      "text/html": [
       "<div>\n",
       "<style scoped>\n",
       "    .dataframe tbody tr th:only-of-type {\n",
       "        vertical-align: middle;\n",
       "    }\n",
       "\n",
       "    .dataframe tbody tr th {\n",
       "        vertical-align: top;\n",
       "    }\n",
       "\n",
       "    .dataframe thead th {\n",
       "        text-align: right;\n",
       "    }\n",
       "</style>\n",
       "<table border=\"1\" class=\"dataframe\">\n",
       "  <thead>\n",
       "    <tr style=\"text-align: right;\">\n",
       "      <th></th>\n",
       "      <th>Texto</th>\n",
       "      <th>Polaridad</th>\n",
       "    </tr>\n",
       "  </thead>\n",
       "  <tbody>\n",
       "    <tr>\n",
       "      <th>0</th>\n",
       "      <td>salgo de veotv que día más largoo</td>\n",
       "      <td>NONE</td>\n",
       "    </tr>\n",
       "    <tr>\n",
       "      <th>1</th>\n",
       "      <td>pauladelasheras no te libraras de ayudar menos...</td>\n",
       "      <td>NEU</td>\n",
       "    </tr>\n",
       "    <tr>\n",
       "      <th>2</th>\n",
       "      <td>marodriguezb gracias mar</td>\n",
       "      <td>P</td>\n",
       "    </tr>\n",
       "    <tr>\n",
       "      <th>3</th>\n",
       "      <td>off pensando en el regalito sinde la que se va...</td>\n",
       "      <td>N</td>\n",
       "    </tr>\n",
       "    <tr>\n",
       "      <th>4</th>\n",
       "      <td>conozco a alguien q es adicto al drama ja ja j...</td>\n",
       "      <td>P</td>\n",
       "    </tr>\n",
       "  </tbody>\n",
       "</table>\n",
       "</div>"
      ],
      "text/plain": [
       "                                               Texto Polaridad\n",
       "0                  salgo de veotv que día más largoo      NONE\n",
       "1  pauladelasheras no te libraras de ayudar menos...       NEU\n",
       "2                           marodriguezb gracias mar         P\n",
       "3  off pensando en el regalito sinde la que se va...         N\n",
       "4  conozco a alguien q es adicto al drama ja ja j...         P"
      ]
     },
     "execution_count": 9,
     "metadata": {},
     "output_type": "execute_result"
    }
   ],
   "source": [
    "#Lo carga de nuevo para corroborar que esté bien\n",
    "my_df = pd.read_csv(csv,index_col=0)\n",
    "my_df.head()"
   ]
  },
  {
   "cell_type": "markdown",
   "metadata": {},
   "source": [
    "## Generar archivo para embeddings\n",
    "Se genera un archivo de texto plano para ser leído por el generador de embeddings\n",
    "\n",
    "### Lo primero es importar el archivo con tweets adicionales"
   ]
  },
  {
   "cell_type": "code",
   "execution_count": 10,
   "metadata": {},
   "outputs": [
    {
     "name": "stdout",
     "output_type": "stream",
     "text": [
      "                                               Texto  LongitudOriginal\n",
      "0  Portada 'Público', viernes. Fabra al banquillo...               135\n",
      "1  Grande! RT @veronicacalderon \\El periodista es...                84\n",
      "2  Gonzalo Altozano tras la presentación de su li...               128\n",
      "3  Mañana en Gaceta: TVE, la que pagamos tú y yo,...               117\n",
      "4  Qué envidia “@mfcastineiras: Pedro mañana x la...               137\n",
      "Pre procesando tweets...\n",
      "\n",
      "1000 de 61798 tweets procesados\n",
      "2000 de 61798 tweets procesados\n",
      "3000 de 61798 tweets procesados\n",
      "4000 de 61798 tweets procesados\n",
      "5000 de 61798 tweets procesados\n",
      "6000 de 61798 tweets procesados\n",
      "7000 de 61798 tweets procesados\n",
      "8000 de 61798 tweets procesados\n",
      "9000 de 61798 tweets procesados\n",
      "10000 de 61798 tweets procesados\n",
      "11000 de 61798 tweets procesados\n",
      "12000 de 61798 tweets procesados\n",
      "13000 de 61798 tweets procesados\n",
      "14000 de 61798 tweets procesados\n",
      "15000 de 61798 tweets procesados\n",
      "16000 de 61798 tweets procesados\n",
      "17000 de 61798 tweets procesados\n",
      "18000 de 61798 tweets procesados\n",
      "19000 de 61798 tweets procesados\n",
      "20000 de 61798 tweets procesados\n",
      "21000 de 61798 tweets procesados\n",
      "22000 de 61798 tweets procesados\n",
      "23000 de 61798 tweets procesados\n",
      "24000 de 61798 tweets procesados\n",
      "25000 de 61798 tweets procesados\n",
      "26000 de 61798 tweets procesados\n",
      "27000 de 61798 tweets procesados\n",
      "28000 de 61798 tweets procesados\n",
      "29000 de 61798 tweets procesados\n",
      "30000 de 61798 tweets procesados\n",
      "31000 de 61798 tweets procesados\n",
      "32000 de 61798 tweets procesados\n",
      "33000 de 61798 tweets procesados\n",
      "34000 de 61798 tweets procesados\n",
      "35000 de 61798 tweets procesados\n",
      "36000 de 61798 tweets procesados\n",
      "37000 de 61798 tweets procesados\n",
      "38000 de 61798 tweets procesados\n",
      "39000 de 61798 tweets procesados\n",
      "40000 de 61798 tweets procesados\n",
      "41000 de 61798 tweets procesados\n",
      "42000 de 61798 tweets procesados\n",
      "43000 de 61798 tweets procesados\n",
      "44000 de 61798 tweets procesados\n",
      "45000 de 61798 tweets procesados\n",
      "46000 de 61798 tweets procesados\n",
      "47000 de 61798 tweets procesados\n",
      "48000 de 61798 tweets procesados\n",
      "49000 de 61798 tweets procesados\n",
      "50000 de 61798 tweets procesados\n",
      "51000 de 61798 tweets procesados\n",
      "52000 de 61798 tweets procesados\n",
      "53000 de 61798 tweets procesados\n",
      "54000 de 61798 tweets procesados\n",
      "55000 de 61798 tweets procesados\n",
      "56000 de 61798 tweets procesados\n",
      "57000 de 61798 tweets procesados\n",
      "58000 de 61798 tweets procesados\n",
      "59000 de 61798 tweets procesados\n",
      "60000 de 61798 tweets procesados\n",
      "61000 de 61798 tweets procesados\n",
      "Pre procesamiento completado\n"
     ]
    }
   ],
   "source": [
    "#Definir el nombre de las columnas del archivo\n",
    "cols = ['id','Usuario','Texto','Fecha','Idioma','?']\n",
    "\n",
    "#Importar el archivo en memoria \n",
    "#Se indica que no tiene encabezados\n",
    "#Se usan los nombres definidos anteriormente los nombres de las columnas\n",
    "df = pd.read_csv(\"general-tweets-unidos.csv\",header=None, names=cols)\n",
    "\n",
    "#Se botan las columnas que no se necesitan\n",
    "df.drop(['id','Usuario','Fecha','Idioma','?'],axis=1,inplace=True)\n",
    "\n",
    "#Se agrega columna de longitud original para validaciones luego del pre proccesamiento\n",
    "df['LongitudOriginal'] = [len(str(t)) for t in df.Texto]\n",
    "\n",
    "#Elimina las líneas que no tengan todos los valores definidos\n",
    "df.dropna(inplace=True)\n",
    "df.reset_index(drop=True,inplace=True)\n",
    "\n",
    "#Imprimir las primeras líneas del archivo para validar una carga correcta\n",
    "print(df.head())\n",
    "print (\"Pre procesando tweets...\\n\")\n",
    "clean_tweet_texts = []\n",
    "for i in range(df.Texto.count()):\n",
    "    if( (i+1)%1000 == 0 ):\n",
    "        print(\"%d de %d tweets procesados\" % ( i+1, df.Texto.count() ))\n",
    "    clean_tweet_texts.append(preprocesador.tweetCleaner(str(df['Texto'][i])))\n",
    "print (\"Pre procesamiento completado\")"
   ]
  },
  {
   "cell_type": "code",
   "execution_count": 11,
   "metadata": {},
   "outputs": [
    {
     "data": {
      "text/html": [
       "<div>\n",
       "<style scoped>\n",
       "    .dataframe tbody tr th:only-of-type {\n",
       "        vertical-align: middle;\n",
       "    }\n",
       "\n",
       "    .dataframe tbody tr th {\n",
       "        vertical-align: top;\n",
       "    }\n",
       "\n",
       "    .dataframe thead th {\n",
       "        text-align: right;\n",
       "    }\n",
       "</style>\n",
       "<table border=\"1\" class=\"dataframe\">\n",
       "  <thead>\n",
       "    <tr style=\"text-align: right;\">\n",
       "      <th></th>\n",
       "      <th>Texto</th>\n",
       "    </tr>\n",
       "  </thead>\n",
       "  <tbody>\n",
       "    <tr>\n",
       "      <th>0</th>\n",
       "      <td>portada público viernes fabra al banquillo por...</td>\n",
       "    </tr>\n",
       "    <tr>\n",
       "      <th>1</th>\n",
       "      <td>grande rt veronicacalderon el periodista es al...</td>\n",
       "    </tr>\n",
       "    <tr>\n",
       "      <th>2</th>\n",
       "      <td>gonzalo altozano tras la presentación de su li...</td>\n",
       "    </tr>\n",
       "    <tr>\n",
       "      <th>3</th>\n",
       "      <td>mañana en gaceta tve la que pagamos tú y yo cu...</td>\n",
       "    </tr>\n",
       "    <tr>\n",
       "      <th>4</th>\n",
       "      <td>qué envidia “mfcastineiras pedro mañana x la m...</td>\n",
       "    </tr>\n",
       "  </tbody>\n",
       "</table>\n",
       "</div>"
      ],
      "text/plain": [
       "                                               Texto\n",
       "0  portada público viernes fabra al banquillo por...\n",
       "1  grande rt veronicacalderon el periodista es al...\n",
       "2  gonzalo altozano tras la presentación de su li...\n",
       "3  mañana en gaceta tve la que pagamos tú y yo cu...\n",
       "4  qué envidia “mfcastineiras pedro mañana x la m..."
      ]
     },
     "execution_count": 11,
     "metadata": {},
     "output_type": "execute_result"
    }
   ],
   "source": [
    "#Generar dataframe con tweets pre procesados\n",
    "clean_df = pd.DataFrame(clean_tweet_texts,columns=['Texto'])\n",
    "clean_df.head()"
   ]
  },
  {
   "cell_type": "code",
   "execution_count": 12,
   "metadata": {},
   "outputs": [
    {
     "name": "stdout",
     "output_type": "stream",
     "text": [
      "Archivo con textos guardado\n"
     ]
    }
   ],
   "source": [
    "#Finalmente, guardar un archivo con solo los textos pre-procesados para realizar la vectorización\n",
    "texto_tweets = []\n",
    "for i in range(my_df.Texto.count()):\n",
    "    texto_tweets.append(str(my_df['Texto'][i]))\n",
    "    \n",
    "for i in range(clean_df.Texto.count()):\n",
    "    texto_tweets.append(str(clean_df['Texto'][i]))\n",
    "\n",
    "#Guarda el archivo\n",
    "with open('SoloTextos.txt', 'w', encoding='utf-8') as f:\n",
    "    for line in texto_tweets:\n",
    "        f.write(line + \"\\n\")\n",
    "        \n",
    "print(\"Archivo con textos guardado\")"
   ]
  },
  {
   "cell_type": "code",
   "execution_count": null,
   "metadata": {},
   "outputs": [],
   "source": []
  }
 ],
 "metadata": {
  "kernelspec": {
   "display_name": "Python 3",
   "language": "python",
   "name": "python3"
  },
  "language_info": {
   "codemirror_mode": {
    "name": "ipython",
    "version": 3
   },
   "file_extension": ".py",
   "mimetype": "text/x-python",
   "name": "python",
   "nbconvert_exporter": "python",
   "pygments_lexer": "ipython3",
   "version": "3.6.5"
  }
 },
 "nbformat": 4,
 "nbformat_minor": 2
}
