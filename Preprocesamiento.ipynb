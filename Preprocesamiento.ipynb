{
 "cells": [
  {
   "cell_type": "markdown",
   "metadata": {},
   "source": [
    "## Importar el archivo de tweets en CSV para el entrenamiento\n",
    "Se importar el archivo y se eliminan las columnas que no se necesitan\n",
    "\n",
    "Basado en: https://towardsdatascience.com/another-twitter-sentiment-analysis-bb5b01ebad90\n",
    "Indice: https://towardsdatascience.com/another-twitter-sentiment-analysis-with-python-part-11-cnn-word2vec-41f5e28eda74"
   ]
  },
  {
   "cell_type": "code",
   "execution_count": 9,
   "metadata": {},
   "outputs": [
    {
     "data": {
      "text/html": [
       "<div>\n",
       "<style scoped>\n",
       "    .dataframe tbody tr th:only-of-type {\n",
       "        vertical-align: middle;\n",
       "    }\n",
       "\n",
       "    .dataframe tbody tr th {\n",
       "        vertical-align: top;\n",
       "    }\n",
       "\n",
       "    .dataframe thead th {\n",
       "        text-align: right;\n",
       "    }\n",
       "</style>\n",
       "<table border=\"1\" class=\"dataframe\">\n",
       "  <thead>\n",
       "    <tr style=\"text-align: right;\">\n",
       "      <th></th>\n",
       "      <th>Polaridad</th>\n",
       "      <th>Texto</th>\n",
       "      <th>LongitudOriginal</th>\n",
       "    </tr>\n",
       "  </thead>\n",
       "  <tbody>\n",
       "    <tr>\n",
       "      <th>0</th>\n",
       "      <td>NONE</td>\n",
       "      <td>Salgo de #VeoTV que día más largoooooo</td>\n",
       "      <td>40</td>\n",
       "    </tr>\n",
       "    <tr>\n",
       "      <th>1</th>\n",
       "      <td>NEU</td>\n",
       "      <td>@PauladeLasHeras No te libraras de ayudar meno...</td>\n",
       "      <td>63</td>\n",
       "    </tr>\n",
       "    <tr>\n",
       "      <th>2</th>\n",
       "      <td>P</td>\n",
       "      <td>@marodriguezb Gracias MAR</td>\n",
       "      <td>25</td>\n",
       "    </tr>\n",
       "    <tr>\n",
       "      <th>3</th>\n",
       "      <td>N+</td>\n",
       "      <td>Off pensando en el regalito Sinde la que se va...</td>\n",
       "      <td>128</td>\n",
       "    </tr>\n",
       "    <tr>\n",
       "      <th>4</th>\n",
       "      <td>P+</td>\n",
       "      <td>Conozco a alguien q es adicto al drama! Ja ja ...</td>\n",
       "      <td>65</td>\n",
       "    </tr>\n",
       "  </tbody>\n",
       "</table>\n",
       "</div>"
      ],
      "text/plain": [
       "  Polaridad                                              Texto  \\\n",
       "0      NONE             Salgo de #VeoTV que día más largoooooo   \n",
       "1       NEU  @PauladeLasHeras No te libraras de ayudar meno...   \n",
       "2         P                          @marodriguezb Gracias MAR   \n",
       "3        N+  Off pensando en el regalito Sinde la que se va...   \n",
       "4        P+  Conozco a alguien q es adicto al drama! Ja ja ...   \n",
       "\n",
       "   LongitudOriginal  \n",
       "0                40  \n",
       "1                63  \n",
       "2                25  \n",
       "3               128  \n",
       "4                65  "
      ]
     },
     "execution_count": 9,
     "metadata": {},
     "output_type": "execute_result"
    }
   ],
   "source": [
    "import pandas as pd  \n",
    "import numpy as np\n",
    "import matplotlib.pyplot as plt\n",
    "import re\n",
    "\n",
    "#Definir el nombre de las columnas del archivo\n",
    "cols = ['id','XX','Polaridad','Texto']\n",
    "\n",
    "#Importar el archivo en memoria \n",
    "#Se indica que no tiene encabezados\n",
    "#Se usan los nombres definidos anteriormente los nombres de las columnas\n",
    "df = pd.read_csv(\"tweets.csv\",header=None, names=cols)\n",
    "\n",
    "#Se botan las columnas que no se necesitan\n",
    "df.drop(['id','XX'],axis=1,inplace=True)\n",
    "\n",
    "#Se agrega columna de longitud original para validaciones luego del pre proccesamiento\n",
    "df['LongitudOriginal'] = [len(str(t)) for t in df.Texto]\n",
    "\n",
    "#Imprimir las primeras líneas del archivo para validar una carga correcta\n",
    "df.head()"
   ]
  },
  {
   "cell_type": "code",
   "execution_count": 10,
   "metadata": {},
   "outputs": [
    {
     "data": {
      "text/plain": [
       "P+      1654\n",
       "NONE    1482\n",
       "N       1334\n",
       "P       1234\n",
       "N+       846\n",
       "NEU      669\n",
       "Name: Polaridad, dtype: int64"
      ]
     },
     "execution_count": 10,
     "metadata": {},
     "output_type": "execute_result"
    }
   ],
   "source": [
    "#Imprimir el total de tweets por polaridad\n",
    "df.Polaridad.value_counts()"
   ]
  },
  {
   "cell_type": "code",
   "execution_count": 24,
   "metadata": {},
   "outputs": [
    {
     "data": {
      "text/html": [
       "<div>\n",
       "<style scoped>\n",
       "    .dataframe tbody tr th:only-of-type {\n",
       "        vertical-align: middle;\n",
       "    }\n",
       "\n",
       "    .dataframe tbody tr th {\n",
       "        vertical-align: top;\n",
       "    }\n",
       "\n",
       "    .dataframe thead th {\n",
       "        text-align: right;\n",
       "    }\n",
       "</style>\n",
       "<table border=\"1\" class=\"dataframe\">\n",
       "  <thead>\n",
       "    <tr style=\"text-align: right;\">\n",
       "      <th></th>\n",
       "      <th>Polaridad</th>\n",
       "      <th>Texto</th>\n",
       "      <th>LongitudOriginal</th>\n",
       "    </tr>\n",
       "  </thead>\n",
       "  <tbody>\n",
       "    <tr>\n",
       "      <th>1024</th>\n",
       "      <td>P+</td>\n",
       "      <td>Todavía me estoy riendo con lo de la APP de ic...</td>\n",
       "      <td>125</td>\n",
       "    </tr>\n",
       "    <tr>\n",
       "      <th>1025</th>\n",
       "      <td>NEU</td>\n",
       "      <td>El Padre Ángel sigue el debate de #investidura...</td>\n",
       "      <td>91</td>\n",
       "    </tr>\n",
       "  </tbody>\n",
       "</table>\n",
       "</div>"
      ],
      "text/plain": [
       "     Polaridad                                              Texto  \\\n",
       "1024        P+  Todavía me estoy riendo con lo de la APP de ic...   \n",
       "1025       NEU  El Padre Ángel sigue el debate de #investidura...   \n",
       "\n",
       "      LongitudOriginal  \n",
       "1024               125  \n",
       "1025                91  "
      ]
     },
     "execution_count": 24,
     "metadata": {},
     "output_type": "execute_result"
    }
   ],
   "source": [
    "df[1024:1026]"
   ]
  },
  {
   "cell_type": "code",
   "execution_count": 31,
   "metadata": {},
   "outputs": [
    {
     "data": {
      "text/plain": [
       "[u'todav\\xeda me estoy riendo con lo de la app de icuenca leed la explicaci\\xf3n de la app es genial no hace falta q la descargu\\xe9is',\n",
       " u'el padre \\xe1ngel sigue el debate de #investidura desde tribuna de invitados ayer no lo vimos']"
      ]
     },
     "execution_count": 31,
     "metadata": {},
     "output_type": "execute_result"
    }
   ],
   "source": [
    "patronURL = r'https?:/?/?[A-Za-z0-9./]+'\n",
    "patronWWW = r'www.[^ ]+'\n",
    "\n",
    "def tweet_cleaner(text):    \n",
    "    #Reemplaza URLs con una \"palabra\" única\n",
    "    stripped = re.sub(patronURL, 'xurlx', text)\n",
    "    stripped = re.sub(patronWWW, 'xurlx', stripped)\n",
    "    \n",
    "    #Quita caracter identificar de UTF-8 BOM si existe\n",
    "    try:\n",
    "        clean = stripped.decode(\"utf-8-sig\").replace(u\"\\ufffd\", \"?\")\n",
    "    except:\n",
    "        clean = stripped\n",
    "        \n",
    "    #Reemplaza números con una \"´palabra\" única\n",
    "    letters_only = re.sub(\"\\d+\", \"xnumx\", clean)\n",
    "    \n",
    "    #Pasa todo a minúsculas\n",
    "    lower_case = letters_only.lower()\n",
    "    \n",
    "    return lower_case\n",
    "\n",
    "#Prueba el pre procesamiento en un grupo pequeño de registros\n",
    "testing = df.Texto[1024:1026]\n",
    "test_result = []\n",
    "for t in testing:\n",
    "    test_result.append(tweet_cleaner(t))\n",
    "test_result"
   ]
  },
  {
   "cell_type": "code",
   "execution_count": 32,
   "metadata": {},
   "outputs": [
    {
     "name": "stdout",
     "output_type": "stream",
     "text": [
      "Pre procesando tweets...\n",
      "\n",
      "1000 de 7218 tweets procesados\n",
      "2000 de 7218 tweets procesados\n",
      "3000 de 7218 tweets procesados\n",
      "4000 de 7218 tweets procesados\n",
      "5000 de 7218 tweets procesados\n",
      "6000 de 7218 tweets procesados\n",
      "7000 de 7218 tweets procesados\n",
      "Pre procesamiento completado\n"
     ]
    }
   ],
   "source": [
    "print \"Pre procesando tweets...\\n\"\n",
    "clean_tweet_texts = []\n",
    "for i in xrange(df.Texto.count()):\n",
    "    if( (i+1)%1000 == 0 ):\n",
    "        print \"%d de %d tweets procesados\" % ( i+1, df.Texto.count() )                                                                    \n",
    "    clean_tweet_texts.append(tweet_cleaner(str(df['Texto'][i])))\n",
    "print \"Pre procesamiento completado\""
   ]
  },
  {
   "cell_type": "code",
   "execution_count": 33,
   "metadata": {},
   "outputs": [
    {
     "data": {
      "text/html": [
       "<div>\n",
       "<style scoped>\n",
       "    .dataframe tbody tr th:only-of-type {\n",
       "        vertical-align: middle;\n",
       "    }\n",
       "\n",
       "    .dataframe tbody tr th {\n",
       "        vertical-align: top;\n",
       "    }\n",
       "\n",
       "    .dataframe thead th {\n",
       "        text-align: right;\n",
       "    }\n",
       "</style>\n",
       "<table border=\"1\" class=\"dataframe\">\n",
       "  <thead>\n",
       "    <tr style=\"text-align: right;\">\n",
       "      <th></th>\n",
       "      <th>Texto</th>\n",
       "      <th>Polaridad</th>\n",
       "    </tr>\n",
       "  </thead>\n",
       "  <tbody>\n",
       "    <tr>\n",
       "      <th>0</th>\n",
       "      <td>salgo de #veotv que día más largoooooo</td>\n",
       "      <td>NONE</td>\n",
       "    </tr>\n",
       "    <tr>\n",
       "      <th>1</th>\n",
       "      <td>@pauladelasheras no te libraras de ayudar meno...</td>\n",
       "      <td>NEU</td>\n",
       "    </tr>\n",
       "    <tr>\n",
       "      <th>2</th>\n",
       "      <td>@marodriguezb gracias mar</td>\n",
       "      <td>P</td>\n",
       "    </tr>\n",
       "    <tr>\n",
       "      <th>3</th>\n",
       "      <td>off pensando en el regalito sinde la que se va...</td>\n",
       "      <td>N+</td>\n",
       "    </tr>\n",
       "    <tr>\n",
       "      <th>4</th>\n",
       "      <td>conozco a alguien q es adicto al drama! ja ja ...</td>\n",
       "      <td>P+</td>\n",
       "    </tr>\n",
       "  </tbody>\n",
       "</table>\n",
       "</div>"
      ],
      "text/plain": [
       "                                               Texto Polaridad\n",
       "0             salgo de #veotv que día más largoooooo      NONE\n",
       "1  @pauladelasheras no te libraras de ayudar meno...       NEU\n",
       "2                          @marodriguezb gracias mar         P\n",
       "3  off pensando en el regalito sinde la que se va...        N+\n",
       "4  conozco a alguien q es adicto al drama! ja ja ...        P+"
      ]
     },
     "execution_count": 33,
     "metadata": {},
     "output_type": "execute_result"
    }
   ],
   "source": [
    "#Generar dataframe con tweets pre procesados\n",
    "clean_df = pd.DataFrame(clean_tweet_texts,columns=['Texto'])\n",
    "clean_df['Polaridad'] = df.Polaridad\n",
    "clean_df.head()"
   ]
  },
  {
   "cell_type": "code",
   "execution_count": 35,
   "metadata": {},
   "outputs": [
    {
     "data": {
      "text/html": [
       "<div>\n",
       "<style scoped>\n",
       "    .dataframe tbody tr th:only-of-type {\n",
       "        vertical-align: middle;\n",
       "    }\n",
       "\n",
       "    .dataframe tbody tr th {\n",
       "        vertical-align: top;\n",
       "    }\n",
       "\n",
       "    .dataframe thead th {\n",
       "        text-align: right;\n",
       "    }\n",
       "</style>\n",
       "<table border=\"1\" class=\"dataframe\">\n",
       "  <thead>\n",
       "    <tr style=\"text-align: right;\">\n",
       "      <th></th>\n",
       "      <th>Texto</th>\n",
       "      <th>Polaridad</th>\n",
       "    </tr>\n",
       "  </thead>\n",
       "  <tbody>\n",
       "    <tr>\n",
       "      <th>0</th>\n",
       "      <td>salgo de #veotv que día más largoooooo</td>\n",
       "      <td>NONE</td>\n",
       "    </tr>\n",
       "    <tr>\n",
       "      <th>1</th>\n",
       "      <td>@pauladelasheras no te libraras de ayudar meno...</td>\n",
       "      <td>NEU</td>\n",
       "    </tr>\n",
       "    <tr>\n",
       "      <th>2</th>\n",
       "      <td>@marodriguezb gracias mar</td>\n",
       "      <td>P</td>\n",
       "    </tr>\n",
       "    <tr>\n",
       "      <th>3</th>\n",
       "      <td>off pensando en el regalito sinde la que se va...</td>\n",
       "      <td>N+</td>\n",
       "    </tr>\n",
       "    <tr>\n",
       "      <th>4</th>\n",
       "      <td>conozco a alguien q es adicto al drama! ja ja ...</td>\n",
       "      <td>P+</td>\n",
       "    </tr>\n",
       "  </tbody>\n",
       "</table>\n",
       "</div>"
      ],
      "text/plain": [
       "                                               Texto Polaridad\n",
       "0             salgo de #veotv que día más largoooooo      NONE\n",
       "1  @pauladelasheras no te libraras de ayudar meno...       NEU\n",
       "2                          @marodriguezb gracias mar         P\n",
       "3  off pensando en el regalito sinde la que se va...        N+\n",
       "4  conozco a alguien q es adicto al drama! ja ja ...        P+"
      ]
     },
     "execution_count": 35,
     "metadata": {},
     "output_type": "execute_result"
    }
   ],
   "source": [
    "clean_df.to_csv('tweets_limpios.csv',encoding='utf-8')\n",
    "csv = 'tweets_limpios.csv'\n",
    "my_df = pd.read_csv(csv,index_col=0)\n",
    "my_df.head()"
   ]
  },
  {
   "cell_type": "code",
   "execution_count": 36,
   "metadata": {},
   "outputs": [
    {
     "data": {
      "text/html": [
       "<div>\n",
       "<style scoped>\n",
       "    .dataframe tbody tr th:only-of-type {\n",
       "        vertical-align: middle;\n",
       "    }\n",
       "\n",
       "    .dataframe tbody tr th {\n",
       "        vertical-align: top;\n",
       "    }\n",
       "\n",
       "    .dataframe thead th {\n",
       "        text-align: right;\n",
       "    }\n",
       "</style>\n",
       "<table border=\"1\" class=\"dataframe\">\n",
       "  <thead>\n",
       "    <tr style=\"text-align: right;\">\n",
       "      <th></th>\n",
       "      <th>Texto</th>\n",
       "      <th>Polaridad</th>\n",
       "    </tr>\n",
       "  </thead>\n",
       "  <tbody>\n",
       "    <tr>\n",
       "      <th>4640</th>\n",
       "      <td>NaN</td>\n",
       "      <td>NONE</td>\n",
       "    </tr>\n",
       "  </tbody>\n",
       "</table>\n",
       "</div>"
      ],
      "text/plain": [
       "     Texto Polaridad\n",
       "4640   NaN      NONE"
      ]
     },
     "execution_count": 36,
     "metadata": {},
     "output_type": "execute_result"
    }
   ],
   "source": [
    "#Verificar si luego del pre procesamiento quedaron registros NULL \n",
    "#Hay que revisarlos contra los tweets originales y verificar si hay algún error\n",
    "my_df[my_df.isnull().any(axis=1)]"
   ]
  },
  {
   "cell_type": "code",
   "execution_count": 37,
   "metadata": {},
   "outputs": [
    {
     "name": "stdout",
     "output_type": "stream",
     "text": [
      "<class 'pandas.core.frame.DataFrame'>\n",
      "RangeIndex: 7217 entries, 0 to 7216\n",
      "Data columns (total 2 columns):\n",
      "Texto        7217 non-null object\n",
      "Polaridad    7217 non-null object\n",
      "dtypes: object(2)\n",
      "memory usage: 112.8+ KB\n"
     ]
    }
   ],
   "source": [
    "#Luego de revisar los registros NULL, se detectó que el único caso era porque no tenía comentario\n",
    "#Se van a desechar los registros NULL\n",
    "my_df.dropna(inplace=True)\n",
    "my_df.reset_index(drop=True,inplace=True)\n",
    "my_df.info()"
   ]
  },
  {
   "cell_type": "code",
   "execution_count": null,
   "metadata": {},
   "outputs": [],
   "source": []
  }
 ],
 "metadata": {
  "kernelspec": {
   "display_name": "Python 2",
   "language": "python",
   "name": "python2"
  },
  "language_info": {
   "codemirror_mode": {
    "name": "ipython",
    "version": 2
   },
   "file_extension": ".py",
   "mimetype": "text/x-python",
   "name": "python",
   "nbconvert_exporter": "python",
   "pygments_lexer": "ipython2",
   "version": "2.7.14"
  }
 },
 "nbformat": 4,
 "nbformat_minor": 2
}
