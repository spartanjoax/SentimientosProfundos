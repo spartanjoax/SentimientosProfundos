{
 "cells": [
  {
   "cell_type": "markdown",
   "metadata": {},
   "source": [
    "# Pre procesamiento\n",
    "\n",
    "## Importar el archivo de tweets en CSV para el entrenamiento\n",
    "Se importar el archivo y se eliminan las columnas que no se necesitan, se limpian datos innecesarios y con esto se genera un nuevo archivo con los tweets pre procesados\n",
    "\n",
    "Basado en: https://towardsdatascience.com/another-twitter-sentiment-analysis-with-python-part-11-cnn-word2vec-41f5e28eda74"
   ]
  },
  {
   "cell_type": "code",
   "execution_count": 1,
   "metadata": {},
   "outputs": [
    {
     "data": {
      "text/html": [
       "<div>\n",
       "<style scoped>\n",
       "    .dataframe tbody tr th:only-of-type {\n",
       "        vertical-align: middle;\n",
       "    }\n",
       "\n",
       "    .dataframe tbody tr th {\n",
       "        vertical-align: top;\n",
       "    }\n",
       "\n",
       "    .dataframe thead th {\n",
       "        text-align: right;\n",
       "    }\n",
       "</style>\n",
       "<table border=\"1\" class=\"dataframe\">\n",
       "  <thead>\n",
       "    <tr style=\"text-align: right;\">\n",
       "      <th></th>\n",
       "      <th>Polaridad</th>\n",
       "      <th>Texto</th>\n",
       "      <th>LongitudOriginal</th>\n",
       "    </tr>\n",
       "  </thead>\n",
       "  <tbody>\n",
       "    <tr>\n",
       "      <th>0</th>\n",
       "      <td>NONE</td>\n",
       "      <td>Salgo de #VeoTV que día más largoooooo</td>\n",
       "      <td>38</td>\n",
       "    </tr>\n",
       "    <tr>\n",
       "      <th>1</th>\n",
       "      <td>NEU</td>\n",
       "      <td>@PauladeLasHeras No te libraras de ayudar meno...</td>\n",
       "      <td>63</td>\n",
       "    </tr>\n",
       "    <tr>\n",
       "      <th>2</th>\n",
       "      <td>P</td>\n",
       "      <td>@marodriguezb Gracias MAR</td>\n",
       "      <td>25</td>\n",
       "    </tr>\n",
       "    <tr>\n",
       "      <th>3</th>\n",
       "      <td>N+</td>\n",
       "      <td>Off pensando en el regalito Sinde la que se va...</td>\n",
       "      <td>128</td>\n",
       "    </tr>\n",
       "    <tr>\n",
       "      <th>4</th>\n",
       "      <td>P+</td>\n",
       "      <td>Conozco a alguien q es adicto al drama! Ja ja ...</td>\n",
       "      <td>65</td>\n",
       "    </tr>\n",
       "  </tbody>\n",
       "</table>\n",
       "</div>"
      ],
      "text/plain": [
       "  Polaridad                                              Texto  \\\n",
       "0      NONE             Salgo de #VeoTV que día más largoooooo   \n",
       "1       NEU  @PauladeLasHeras No te libraras de ayudar meno...   \n",
       "2         P                          @marodriguezb Gracias MAR   \n",
       "3        N+  Off pensando en el regalito Sinde la que se va...   \n",
       "4        P+  Conozco a alguien q es adicto al drama! Ja ja ...   \n",
       "\n",
       "   LongitudOriginal  \n",
       "0                38  \n",
       "1                63  \n",
       "2                25  \n",
       "3               128  \n",
       "4                65  "
      ]
     },
     "execution_count": 1,
     "metadata": {},
     "output_type": "execute_result"
    }
   ],
   "source": [
    "import pandas as pd  \n",
    "import numpy as np\n",
    "import matplotlib.pyplot as plt\n",
    "import re\n",
    "\n",
    "#Definir el nombre de las columnas del archivo\n",
    "cols = ['id','XX','Polaridad','Texto']\n",
    "\n",
    "#Importar el archivo en memoria \n",
    "#Se indica que no tiene encabezados\n",
    "#Se usan los nombres definidos anteriormente los nombres de las columnas\n",
    "df = pd.read_csv(\"tweets.csv\",header=None, names=cols)\n",
    "\n",
    "#Se botan las columnas que no se necesitan\n",
    "df.drop(['id','XX'],axis=1,inplace=True)\n",
    "\n",
    "#Se agrega columna de longitud original para validaciones luego del pre proccesamiento\n",
    "df['LongitudOriginal'] = [len(str(t)) for t in df.Texto]\n",
    "\n",
    "#Elimina las líneas que no tengan todos los valores definidos\n",
    "df.dropna(inplace=True)\n",
    "df.reset_index(drop=True,inplace=True)\n",
    "\n",
    "#Imprimir las primeras líneas del archivo para validar una carga correcta\n",
    "df.head()"
   ]
  },
  {
   "cell_type": "code",
   "execution_count": 2,
   "metadata": {},
   "outputs": [
    {
     "data": {
      "text/plain": [
       "P+      1654\n",
       "NONE    1481\n",
       "N       1334\n",
       "P       1234\n",
       "N+       846\n",
       "NEU      669\n",
       "Name: Polaridad, dtype: int64"
      ]
     },
     "execution_count": 2,
     "metadata": {},
     "output_type": "execute_result"
    }
   ],
   "source": [
    "#Imprimir el total de tweets por polaridad\n",
    "df.Polaridad.value_counts()"
   ]
  },
  {
   "cell_type": "code",
   "execution_count": 5,
   "metadata": {},
   "outputs": [
    {
     "name": "stdout",
     "output_type": "stream",
     "text": [
      "Gracias a ti Paco RT @pacorengel #YNTERVIUMARIVI @mariviromero Muchísimas gracias Un beso La cuelgo en un ratito en http:tcoyK7PeIva\n",
      "Aunque en menor medida también lo son muchas que no son madres ;) @ejoana Supermujeres Gran post de @virginiapalonso http:tcoSUTdmagF\n",
      "gracias a ti paco rt @pacorengel #ynterviumarivi @mariviromero muchísimas gracias un beso la cuelgo en un ratito en xurlx\n",
      "aunque en menor medida también lo son muchas que no son madres ;) @ejoana supermujeres gran post de @virginiapalonso xurlx\n"
     ]
    }
   ],
   "source": [
    "#Patrones para hacer limpiezas\n",
    "patronURL = r'https?:/?/?[A-Za-z0-9./]+'\n",
    "patronWWW = r'www.[^ ]+'\n",
    "patronNums = r'\\d+'\n",
    "patronElongaciones1Char = r'(.)\\1+'\n",
    "#Este último fue tomado de https://stackoverflow.com/questions/16884258/php-remove-duplicate-syllable-word\n",
    "patronElongacionesSilabas = r'([b-df-hj-np-tv-xz][aeiouy](?:[a-z])?|[aeiouy][b-df-hj-np-tv-xz](?:[a-z])?)(\\1){2,}'\n",
    "\n",
    "def tweet_cleaner(text):    \n",
    "    #Reemplaza URLs con una \"palabra\" única\n",
    "    clean = re.sub(patronURL, 'xurlx', text)\n",
    "    clean = re.sub(patronWWW, 'xurlx', clean)\n",
    "    \n",
    "    #Quita caracter identificar de UTF-8 BOM si existe\n",
    "    try:\n",
    "        clean = clean.decode(\"utf-8-sig\").replace(u\"\\ufffd\", \"?\")\n",
    "    except:\n",
    "        clean = clean\n",
    "    \n",
    "    #Pasa todo a minúsculas\n",
    "    clean = clean.lower()        \n",
    "    #Reemplaza números con una \"´palabra\" única\n",
    "    clean = re.sub(patronNums, \"xnumx\", clean)    \n",
    "    #Reduce las elongaciones de un mismo caracter a solo 2 repeticiones\n",
    "    clean = re.sub(patronElongaciones1Char, r'\\1\\1', clean) \n",
    "    #Reduce las elongaciones de una misma silaba a solo 2 repeticiones\n",
    "    clean = re.sub(patronElongacionesSilabas, r'\\1\\1', clean) \n",
    "    \n",
    "    return clean\n",
    "\n",
    "#Prueba el pre procesamiento en un grupo pequeño de registros\n",
    "testing = df.Texto[198:200]\n",
    "test_result = []\n",
    "for t in testing:\n",
    "    print(t)\n",
    "    test_result.append(tweet_cleaner(t))\n",
    "print(test_result[0])\n",
    "print(test_result[1])"
   ]
  },
  {
   "cell_type": "code",
   "execution_count": 7,
   "metadata": {},
   "outputs": [
    {
     "name": "stdout",
     "output_type": "stream",
     "text": [
      "Pre procesando tweets...\n",
      "\n",
      "1000 de 7218 tweets procesados\n",
      "2000 de 7218 tweets procesados\n",
      "3000 de 7218 tweets procesados\n",
      "4000 de 7218 tweets procesados\n",
      "5000 de 7218 tweets procesados\n",
      "6000 de 7218 tweets procesados\n",
      "7000 de 7218 tweets procesados\n",
      "Pre procesamiento completado\n"
     ]
    }
   ],
   "source": [
    "print (\"Pre procesando tweets...\\n\")\n",
    "clean_tweet_texts = []\n",
    "for i in range(df.Texto.count()):\n",
    "    if( (i+1)%1000 == 0 ):\n",
    "        print(\"%d de %d tweets procesados\" % ( i+1, df.Texto.count() ))\n",
    "    clean_tweet_texts.append(tweet_cleaner(str(df['Texto'][i])))\n",
    "print (\"Pre procesamiento completado\")"
   ]
  },
  {
   "cell_type": "code",
   "execution_count": 8,
   "metadata": {},
   "outputs": [
    {
     "data": {
      "text/html": [
       "<div>\n",
       "<style scoped>\n",
       "    .dataframe tbody tr th:only-of-type {\n",
       "        vertical-align: middle;\n",
       "    }\n",
       "\n",
       "    .dataframe tbody tr th {\n",
       "        vertical-align: top;\n",
       "    }\n",
       "\n",
       "    .dataframe thead th {\n",
       "        text-align: right;\n",
       "    }\n",
       "</style>\n",
       "<table border=\"1\" class=\"dataframe\">\n",
       "  <thead>\n",
       "    <tr style=\"text-align: right;\">\n",
       "      <th></th>\n",
       "      <th>Texto</th>\n",
       "      <th>Polaridad</th>\n",
       "    </tr>\n",
       "  </thead>\n",
       "  <tbody>\n",
       "    <tr>\n",
       "      <th>0</th>\n",
       "      <td>salgo de #veotv que día más largoo</td>\n",
       "      <td>NONE</td>\n",
       "    </tr>\n",
       "    <tr>\n",
       "      <th>1</th>\n",
       "      <td>@pauladelasheras no te libraras de ayudar meno...</td>\n",
       "      <td>NEU</td>\n",
       "    </tr>\n",
       "    <tr>\n",
       "      <th>2</th>\n",
       "      <td>@marodriguezb gracias mar</td>\n",
       "      <td>P</td>\n",
       "    </tr>\n",
       "    <tr>\n",
       "      <th>3</th>\n",
       "      <td>off pensando en el regalito sinde la que se va...</td>\n",
       "      <td>N+</td>\n",
       "    </tr>\n",
       "    <tr>\n",
       "      <th>4</th>\n",
       "      <td>conozco a alguien q es adicto al drama! ja ja ...</td>\n",
       "      <td>P+</td>\n",
       "    </tr>\n",
       "  </tbody>\n",
       "</table>\n",
       "</div>"
      ],
      "text/plain": [
       "                                               Texto Polaridad\n",
       "0                 salgo de #veotv que día más largoo      NONE\n",
       "1  @pauladelasheras no te libraras de ayudar meno...       NEU\n",
       "2                          @marodriguezb gracias mar         P\n",
       "3  off pensando en el regalito sinde la que se va...        N+\n",
       "4  conozco a alguien q es adicto al drama! ja ja ...        P+"
      ]
     },
     "execution_count": 8,
     "metadata": {},
     "output_type": "execute_result"
    }
   ],
   "source": [
    "#Generar dataframe con tweets pre procesados\n",
    "clean_df = pd.DataFrame(clean_tweet_texts,columns=['Texto'])\n",
    "clean_df['Polaridad'] = df.Polaridad\n",
    "clean_df.head()"
   ]
  },
  {
   "cell_type": "code",
   "execution_count": 9,
   "metadata": {},
   "outputs": [
    {
     "data": {
      "text/html": [
       "<div>\n",
       "<style scoped>\n",
       "    .dataframe tbody tr th:only-of-type {\n",
       "        vertical-align: middle;\n",
       "    }\n",
       "\n",
       "    .dataframe tbody tr th {\n",
       "        vertical-align: top;\n",
       "    }\n",
       "\n",
       "    .dataframe thead th {\n",
       "        text-align: right;\n",
       "    }\n",
       "</style>\n",
       "<table border=\"1\" class=\"dataframe\">\n",
       "  <thead>\n",
       "    <tr style=\"text-align: right;\">\n",
       "      <th></th>\n",
       "      <th>Texto</th>\n",
       "      <th>Polaridad</th>\n",
       "    </tr>\n",
       "  </thead>\n",
       "  <tbody>\n",
       "  </tbody>\n",
       "</table>\n",
       "</div>"
      ],
      "text/plain": [
       "Empty DataFrame\n",
       "Columns: [Texto, Polaridad]\n",
       "Index: []"
      ]
     },
     "execution_count": 9,
     "metadata": {},
     "output_type": "execute_result"
    }
   ],
   "source": [
    "#Verificar si luego del pre procesamiento quedaron registros NULL \n",
    "#Hay que revisarlos contra los tweets originales y verificar si hay algún error\n",
    "clean_df[clean_df.isnull().any(axis=1)]"
   ]
  },
  {
   "cell_type": "code",
   "execution_count": 10,
   "metadata": {},
   "outputs": [
    {
     "name": "stdout",
     "output_type": "stream",
     "text": [
      "<class 'pandas.core.frame.DataFrame'>\n",
      "RangeIndex: 7218 entries, 0 to 7217\n",
      "Data columns (total 2 columns):\n",
      "Texto        7218 non-null object\n",
      "Polaridad    7218 non-null object\n",
      "dtypes: object(2)\n",
      "memory usage: 112.9+ KB\n"
     ]
    }
   ],
   "source": [
    "#Luego de revisar los registros NULL, se detectó que el único caso era porque no tenía comentario\n",
    "#Se van a desechar los registros NULL\n",
    "clean_df.dropna(inplace=True)\n",
    "clean_df.reset_index(drop=True,inplace=True)\n",
    "clean_df.info()"
   ]
  },
  {
   "cell_type": "code",
   "execution_count": 11,
   "metadata": {},
   "outputs": [
    {
     "data": {
      "text/html": [
       "<div>\n",
       "<style scoped>\n",
       "    .dataframe tbody tr th:only-of-type {\n",
       "        vertical-align: middle;\n",
       "    }\n",
       "\n",
       "    .dataframe tbody tr th {\n",
       "        vertical-align: top;\n",
       "    }\n",
       "\n",
       "    .dataframe thead th {\n",
       "        text-align: right;\n",
       "    }\n",
       "</style>\n",
       "<table border=\"1\" class=\"dataframe\">\n",
       "  <thead>\n",
       "    <tr style=\"text-align: right;\">\n",
       "      <th></th>\n",
       "      <th>Texto</th>\n",
       "      <th>Polaridad</th>\n",
       "    </tr>\n",
       "  </thead>\n",
       "  <tbody>\n",
       "    <tr>\n",
       "      <th>0</th>\n",
       "      <td>salgo de #veotv que día más largoo</td>\n",
       "      <td>NONE</td>\n",
       "    </tr>\n",
       "    <tr>\n",
       "      <th>1</th>\n",
       "      <td>@pauladelasheras no te libraras de ayudar meno...</td>\n",
       "      <td>NEU</td>\n",
       "    </tr>\n",
       "    <tr>\n",
       "      <th>2</th>\n",
       "      <td>@marodriguezb gracias mar</td>\n",
       "      <td>P</td>\n",
       "    </tr>\n",
       "    <tr>\n",
       "      <th>3</th>\n",
       "      <td>off pensando en el regalito sinde la que se va...</td>\n",
       "      <td>N+</td>\n",
       "    </tr>\n",
       "    <tr>\n",
       "      <th>4</th>\n",
       "      <td>conozco a alguien q es adicto al drama! ja ja ...</td>\n",
       "      <td>P+</td>\n",
       "    </tr>\n",
       "  </tbody>\n",
       "</table>\n",
       "</div>"
      ],
      "text/plain": [
       "                                               Texto Polaridad\n",
       "0                 salgo de #veotv que día más largoo      NONE\n",
       "1  @pauladelasheras no te libraras de ayudar meno...       NEU\n",
       "2                          @marodriguezb gracias mar         P\n",
       "3  off pensando en el regalito sinde la que se va...        N+\n",
       "4  conozco a alguien q es adicto al drama! ja ja ...        P+"
      ]
     },
     "execution_count": 11,
     "metadata": {},
     "output_type": "execute_result"
    }
   ],
   "source": [
    "#Guarda los tweets a un archivo con encoding UTF-8\n",
    "csv = 'tweets_limpios.csv'\n",
    "clean_df.to_csv(csv,encoding='utf-8')\n",
    "#Lo carga de nuevo para corroborar que esté bien\n",
    "my_df = pd.read_csv(csv,index_col=0)\n",
    "my_df.head()"
   ]
  },
  {
   "cell_type": "code",
   "execution_count": 15,
   "metadata": {},
   "outputs": [],
   "source": [
    "#Finalmente, guardar un archivo con solo los textos para realizar la vectorización\n",
    "texto_tweets = []\n",
    "for i in range(my_df.Texto.count()):\n",
    "    texto_tweets.append(str(my_df['Texto'][i]))\n",
    "with open('SoloTextos.txt', 'w', encoding='utf-8') as f:\n",
    "    for line in texto_tweets:\n",
    "        f.write(line + \"\\n\")"
   ]
  },
  {
   "cell_type": "code",
   "execution_count": null,
   "metadata": {},
   "outputs": [],
   "source": []
  }
 ],
 "metadata": {
  "kernelspec": {
   "display_name": "Python 3",
   "language": "python",
   "name": "python3"
  },
  "language_info": {
   "codemirror_mode": {
    "name": "ipython",
    "version": 3
   },
   "file_extension": ".py",
   "mimetype": "text/x-python",
   "name": "python",
   "nbconvert_exporter": "python",
   "pygments_lexer": "ipython3",
   "version": "3.6.5"
  }
 },
 "nbformat": 4,
 "nbformat_minor": 2
}
